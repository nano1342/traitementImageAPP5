{
 "cells": [
  {
   "cell_type": "code",
   "execution_count": 1,
   "metadata": {},
   "outputs": [],
   "source": [
    "import cv2\n",
    "import os\n",
    "import numpy as np\n",
    "from IPython.display import Image\n",
    "import imutils\n",
    "import tqdm\n",
    "import re"
   ]
  },
  {
   "cell_type": "code",
   "execution_count": 2,
   "metadata": {},
   "outputs": [],
   "source": [
    "def charger(file):\n",
    "    img = cv2.imread(file, cv2.IMREAD_UNCHANGED)\n",
    "    return img\n",
    "\n",
    "def montrer(img):\n",
    "    cv2.imshow(\"image\", img)\n",
    "    k = cv2.waitKey(0)\n",
    "\n",
    "def inserer(xBegin, yBegin, img, frag, angle=0):\n",
    "    if angle != 0 and angle != None:\n",
    "        frag = tourner(frag, angle)\n",
    "    img = ajouterCoucheAlpha(img)\n",
    "    \n",
    "    for x in range(0, frag.shape[0]):\n",
    "        for y in range(0, frag.shape[1]):\n",
    "            alpha_actuel = frag[x][y][3]\n",
    "            if alpha_actuel:\n",
    "                percentFrag = alpha_actuel/255\n",
    "                img[xBegin + x, yBegin + y][0] = img[xBegin + x, yBegin + y, 0]*(1-percentFrag) + frag[x, y, 0]*percentFrag\n",
    "                img[xBegin + x, yBegin + y][1] = img[xBegin + x, yBegin + y, 1]*(1-percentFrag) + frag[x, y, 1]*percentFrag\n",
    "                img[xBegin + x, yBegin + y][2] = img[xBegin + x, yBegin + y, 2]*(1-percentFrag) + frag[x, y, 2]*percentFrag\n",
    "            \"\"\"else:\n",
    "                img[xBegin + x, yBegin + y][0] = 0\n",
    "                img[xBegin + x, yBegin + y][1] = 0\n",
    "                img[xBegin + x, yBegin + y][2] = 0\"\"\"\n",
    "    \n",
    "    return img\n",
    "\n",
    "def tourner(img, angle):\n",
    "    h = img.shape[0]\n",
    "    w = img.shape[1]\n",
    "    imgRotated = imutils.rotate(img, angle)\n",
    "    return imgRotated\n",
    "\n",
    "def ajouterCoucheAlpha(img):\n",
    "    if img.shape[2] == 3:\n",
    "        img = np.pad(img, ((0, 0), (0, 0), (0, 1)), mode='constant', constant_values=0)\n",
    "    return img\n",
    "\n",
    "def tournerCentre(image, angle):\n",
    "    (h, w) = image.shape[:2]\n",
    "    cX = w/2\n",
    "    cY = h/2\n",
    "    M = cv2.getRotationMatrix2D((cX, cY), -angle, 1.0)\n",
    "    cos = np.abs(M[0, 0])\n",
    "    sin = np.abs(M[0, 1])\n",
    "\n",
    "    nW = int((h * sin) + (w * cos))\n",
    "    nH = int((h * cos) + (w * sin))\n",
    "\n",
    "    M[0, 2] += (nW / 2) - cX\n",
    "    M[1, 2] += (nH / 2) - cY\n",
    "\n",
    "    return cv2.warpAffine(image, M, (nW, nH))"
   ]
  },
  {
   "cell_type": "code",
   "execution_count": 3,
   "metadata": {},
   "outputs": [
    {
     "name": "stdout",
     "output_type": "stream",
     "text": [
      "AVANT : (775, 1707, 3)\n",
      "APRES : (775, 1707, 4)\n"
     ]
    }
   ],
   "source": [
    "img = charger(\"tp1/Michelangelo_ThecreationofAdam_1707x775.jpg\")\n",
    "print(\"AVANT :\", img.shape)\n",
    "img = ajouterCoucheAlpha(img)\n",
    "print(\"APRES :\", img.shape)"
   ]
  },
  {
   "cell_type": "code",
   "execution_count": 4,
   "metadata": {},
   "outputs": [
    {
     "name": "stdout",
     "output_type": "stream",
     "text": [
      "uint8\n"
     ]
    }
   ],
   "source": [
    "#récupération du tableau de base\n",
    "angelo = charger(\"tp1/Michelangelo_ThecreationofAdam_1707x775.jpg\")\n",
    "print(angelo.dtype)"
   ]
  },
  {
   "cell_type": "code",
   "execution_count": 5,
   "metadata": {},
   "outputs": [
    {
     "name": "stdout",
     "output_type": "stream",
     "text": [
      "(68, 89, 4)\n"
     ]
    }
   ],
   "source": [
    "#récupération d'un fragment\n",
    "fragment = charger(\"tp1/frag_eroded/frag_eroded_0.png\")\n",
    "print(fragment.shape)"
   ]
  },
  {
   "cell_type": "code",
   "execution_count": null,
   "metadata": {},
   "outputs": [
    {
     "name": "stdout",
     "output_type": "stream",
     "text": [
      "(775, 1707, 3)\n"
     ]
    }
   ],
   "source": [
    "blank_img = np.zeros(shape=(775, 1707, 3), dtype=np.uint8)\n",
    "print(blank_img.shape)\n",
    "blank_img[:,:,:] = 255\n",
    "montrer(blank_img)"
   ]
  },
  {
   "cell_type": "code",
   "execution_count": 7,
   "metadata": {},
   "outputs": [],
   "source": [
    "imgTestRed = np.zeros(shape=(50, 50, 3), dtype=np.uint8)\n",
    "imgTestRed[:,:,0] = 255\n",
    "montrer(imgTestRed)"
   ]
  },
  {
   "cell_type": "code",
   "execution_count": 8,
   "metadata": {},
   "outputs": [],
   "source": [
    "#test fonction de rotation\n",
    "montrer(tourner(fragment, 0))"
   ]
  },
  {
   "cell_type": "code",
   "execution_count": 9,
   "metadata": {},
   "outputs": [
    {
     "data": {
      "text/plain": [
       "'for anglee in range(1, 90, 5):\\n    montrer(inserer(0, 0, angelo, fragment, anglee))'"
      ]
     },
     "execution_count": 9,
     "metadata": {},
     "output_type": "execute_result"
    }
   ],
   "source": [
    "fragment = charger(\"tp1/PNG_transparency_demonstration_1.png\")\n",
    "angelo = charger(\"tp1/Michelangelo_ThecreationofAdam_1707x775.jpg\")\n",
    "montrer(inserer(0, 0, angelo, fragment))\n",
    "\"\"\"for anglee in range(1, 90, 5):\n",
    "    montrer(inserer(0, 0, angelo, fragment, anglee))\"\"\""
   ]
  },
  {
   "cell_type": "code",
   "execution_count": 3,
   "metadata": {},
   "outputs": [
    {
     "name": "stderr",
     "output_type": "stream",
     "text": [
      "100%|██████████| 328/328 [00:04<00:00, 66.04it/s] \n"
     ]
    }
   ],
   "source": [
    "#----------------------------------------------------------------------------------------------------------------------------------------------#\n",
    "#------------------------------------------------------------------Question 1------------------------------------------------------------------#\n",
    "#----------------------------------------------------------------------------------------------------------------------------------------------#\n",
    "angelo = charger(\"tp1/Michelangelo_ThecreationofAdam_1707x775.jpg\")\n",
    "\n",
    "canvas = np.zeros(shape=(775, 1707, 4), dtype=np.uint8)\n",
    "canvas[:,:,:] = 255\n",
    "\n",
    "fragment = charger(\"tp1/frag_eroded/frag_eroded_0.png\")\n",
    "\n",
    "\n",
    "canvas = (inserer(0, 0, canvas, fragment))\n",
    "\n",
    "#convertir fragments.txt en une hmap\n",
    "hmap = {}\n",
    "fichier_fragments_infos = open(\"tp1/fragments.txt\", \"r\")\n",
    "fragments_infos = fichier_fragments_infos.read()\n",
    "fichier_fragments_infos.close()\n",
    "fragments_infos = fragments_infos.split('\\n')\n",
    "for ligne in fragments_infos:\n",
    "    try:\n",
    "        ligne_coupee = ligne.split(' ')\n",
    "        hmap[int(ligne_coupee[0])] = [\n",
    "            int(ligne_coupee[1]),\n",
    "            int(ligne_coupee[2]),\n",
    "            float(ligne_coupee[3])\n",
    "        ]\n",
    "    except IndexError:\n",
    "        pass\n",
    "    except:\n",
    "        1/0\n",
    "\n",
    "\n",
    "canvas = angelo\n",
    "for nom_fichier in tqdm.tqdm(os.listdir('tp1/frag_eroded/')):\n",
    "    fragment_index = re.findall(r'\\d+', nom_fichier)[0]\n",
    "    fragment_index = int(fragment_index)\n",
    "    if fragment_index in list(hmap.keys()):\n",
    "        fragment = charger(f'tp1/frag_eroded/{nom_fichier}')\n",
    "        offset_x = -int(fragment.shape[0]/2)\n",
    "        offset_y = -int(fragment.shape[1]/2)\n",
    "        try:\n",
    "            canvas = (inserer(hmap[fragment_index][1]-1 +  + offset_x, hmap[fragment_index][0]-1 + offset_y, canvas, fragment, angle=hmap[fragment_index][2]))\n",
    "        except:\n",
    "            pass\n",
    "    \n",
    "\n",
    "\n",
    "    #print(re.findall(r'\\d+', nom_fichier)[0])\n",
    "    #print(infos_fragment_actuel)\n",
    "    #fragment = charger(hmap[][], hmap[][], f'tp1/frag_eroded/{nom_fichier}')\n",
    "    #canvas = (inserer(x, y, canvas, fragment))\n",
    "\n",
    "#montrer(angelo)\n",
    "montrer(canvas)\n",
    "\n",
    "\n"
   ]
  },
  {
   "cell_type": "code",
   "execution_count": 11,
   "metadata": {},
   "outputs": [
    {
     "ename": "ValueError",
     "evalue": "operands could not be broadcast together with shapes (10,89,4) (68,89,4) ",
     "output_type": "error",
     "traceback": [
      "\u001b[1;31m---------------------------------------------------------------------------\u001b[0m",
      "\u001b[1;31mValueError\u001b[0m                                Traceback (most recent call last)",
      "Cell \u001b[1;32mIn[11], line 23\u001b[0m\n\u001b[0;32m     20\u001b[0m \u001b[38;5;66;03m#def trouver_position()\u001b[39;00m\n\u001b[0;32m     22\u001b[0m fragment \u001b[38;5;241m=\u001b[39m charger(\u001b[38;5;124m'\u001b[39m\u001b[38;5;124mtp1/frag_eroded/frag_eroded_0.png\u001b[39m\u001b[38;5;124m'\u001b[39m)\n\u001b[1;32m---> 23\u001b[0m \u001b[43mevaluer_position\u001b[49m\u001b[43m(\u001b[49m\u001b[43mfragment\u001b[49m\u001b[43m,\u001b[49m\u001b[43m \u001b[49m\u001b[43mfragment\u001b[49m\u001b[43m,\u001b[49m\u001b[43m \u001b[49m\u001b[38;5;241;43m10\u001b[39;49m\u001b[43m,\u001b[49m\u001b[43m \u001b[49m\u001b[38;5;241;43m10\u001b[39;49m\u001b[43m,\u001b[49m\u001b[43m \u001b[49m\u001b[38;5;241;43m0\u001b[39;49m\u001b[43m)\u001b[49m\n\u001b[0;32m     26\u001b[0m Y \u001b[38;5;241m=\u001b[39m np\u001b[38;5;241m.\u001b[39marange(\u001b[38;5;241m16\u001b[39m)\u001b[38;5;241m.\u001b[39mreshape(\u001b[38;5;241m4\u001b[39m,\u001b[38;5;241m4\u001b[39m)\n\u001b[0;32m     28\u001b[0m \u001b[38;5;28mprint\u001b[39m(Y)\n",
      "Cell \u001b[1;32mIn[11], line 17\u001b[0m, in \u001b[0;36mevaluer_position\u001b[1;34m(angelo, fragment, pos_x, pos_y, angle)\u001b[0m\n\u001b[0;32m     16\u001b[0m \u001b[38;5;28;01mdef\u001b[39;00m \u001b[38;5;21mevaluer_position\u001b[39m(angelo, fragment, pos_x, pos_y, angle):\n\u001b[1;32m---> 17\u001b[0m     \u001b[38;5;28;01mreturn\u001b[39;00m \u001b[43mcomparer\u001b[49m\u001b[43m(\u001b[49m\u001b[43mangelo\u001b[49m\u001b[43m[\u001b[49m\u001b[43mpos_x\u001b[49m\u001b[43m \u001b[49m\u001b[38;5;241;43m+\u001b[39;49m\u001b[43m \u001b[49m\u001b[38;5;28;43mint\u001b[39;49m\u001b[43m(\u001b[49m\u001b[43mfragment\u001b[49m\u001b[38;5;241;43m.\u001b[39;49m\u001b[43mshape\u001b[49m\u001b[43m[\u001b[49m\u001b[38;5;241;43m0\u001b[39;49m\u001b[43m]\u001b[49m\u001b[38;5;241;43m/\u001b[39;49m\u001b[38;5;241;43m2\u001b[39;49m\u001b[43m)\u001b[49m\u001b[43m \u001b[49m\u001b[43m:\u001b[49m\u001b[43m \u001b[49m\u001b[43mpos_y\u001b[49m\u001b[43m \u001b[49m\u001b[38;5;241;43m+\u001b[39;49m\u001b[43m \u001b[49m\u001b[38;5;28;43mint\u001b[39;49m\u001b[43m(\u001b[49m\u001b[43mfragment\u001b[49m\u001b[38;5;241;43m.\u001b[39;49m\u001b[43mshape\u001b[49m\u001b[43m[\u001b[49m\u001b[38;5;241;43m1\u001b[39;49m\u001b[43m]\u001b[49m\u001b[38;5;241;43m/\u001b[39;49m\u001b[38;5;241;43m2\u001b[39;49m\u001b[43m)\u001b[49m\u001b[43m]\u001b[49m\u001b[43m,\u001b[49m\u001b[43m \u001b[49m\u001b[43mfragment\u001b[49m\u001b[43m,\u001b[49m\u001b[43m \u001b[49m\u001b[43mpos_x\u001b[49m\u001b[43m,\u001b[49m\u001b[43m \u001b[49m\u001b[43mpos_y\u001b[49m\u001b[43m,\u001b[49m\u001b[43m \u001b[49m\u001b[43mangle\u001b[49m\u001b[43m)\u001b[49m\n\u001b[0;32m     18\u001b[0m     \u001b[38;5;28;01mreturn\u001b[39;00m \u001b[38;5;241m0\u001b[39m\n",
      "Cell \u001b[1;32mIn[11], line 10\u001b[0m, in \u001b[0;36mcomparer\u001b[1;34m(morceau_angelo, fragment, pos_x, pos_y, angle)\u001b[0m\n\u001b[0;32m      8\u001b[0m \u001b[38;5;28;01mfor\u001b[39;00m x \u001b[38;5;129;01min\u001b[39;00m \u001b[38;5;28mrange\u001b[39m(fragment\u001b[38;5;241m.\u001b[39mshape[\u001b[38;5;241m0\u001b[39m]):\n\u001b[0;32m      9\u001b[0m     \u001b[38;5;28;01mfor\u001b[39;00m y \u001b[38;5;129;01min\u001b[39;00m \u001b[38;5;28mrange\u001b[39m(fragment\u001b[38;5;241m.\u001b[39mshape[\u001b[38;5;241m1\u001b[39m]):\n\u001b[1;32m---> 10\u001b[0m         mat_diff \u001b[38;5;241m=\u001b[39m \u001b[43mmorceau_angelo\u001b[49m\u001b[43m \u001b[49m\u001b[38;5;241;43m-\u001b[39;49m\u001b[43m \u001b[49m\u001b[43mfragment\u001b[49m\n\u001b[0;32m     13\u001b[0m res \u001b[38;5;241m=\u001b[39m mat_diff\u001b[38;5;241m.\u001b[39msum()\n\u001b[0;32m     14\u001b[0m \u001b[38;5;28;01mreturn\u001b[39;00m res\n",
      "\u001b[1;31mValueError\u001b[0m: operands could not be broadcast together with shapes (10,89,4) (68,89,4) "
     ]
    }
   ],
   "source": [
    "#----------------------------------------------------------------------------------------------------------------------------------------------#\n",
    "#------------------------------------------------------------------Question 2 Mal Comprise------------------------------------------------------------------#\n",
    "#----------------------------------------------------------------------------------------------------------------------------------------------#\n",
    "def comparer(morceau_angelo, fragment, pos_x, pos_y, angle):\n",
    "    res = 0\n",
    "    if angle != 0:\n",
    "        fragment = tourner(fragment, angle)\n",
    "    for x in range(fragment.shape[0]):\n",
    "        for y in range(fragment.shape[1]):\n",
    "            mat_diff = morceau_angelo - fragment\n",
    "            \n",
    "\n",
    "    res = mat_diff.sum()\n",
    "    return res\n",
    "\n",
    "def evaluer_position(angelo, fragment, pos_x, pos_y, angle):\n",
    "    return comparer(angelo[pos_x + int(fragment.shape[0]/2) : pos_y + int(fragment.shape[1]/2)], fragment, pos_x, pos_y, angle)\n",
    "    return 0\n",
    "\n",
    "#def trouver_position()\n",
    "\n",
    "fragment = charger('tp1/frag_eroded/frag_eroded_0.png')\n",
    "evaluer_position(fragment, fragment, 10, 10, 0)\n",
    "\n",
    "\n",
    "Y = np.arange(16).reshape(4,4)\n",
    "\n",
    "print(Y)\n",
    "#print(Y[np.ix_([0,3],[0,3])])\n",
    "\n",
    "print(Y[0:4, 0:4])"
   ]
  },
  {
   "cell_type": "code",
   "execution_count": 4,
   "metadata": {},
   "outputs": [
    {
     "data": {
      "text/plain": [
       "0.9766782998712827"
      ]
     },
     "execution_count": 10,
     "metadata": {},
     "output_type": "execute_result"
    }
   ],
   "source": [
    "#----------------------------------------------------------------------------------------------------------------------------------------------#\n",
    "#------------------------------------------------------------------Question 2------------------------------------------------------------------#\n",
    "#----------------------------------------------------------------------------------------------------------------------------------------------#\n",
    "delta_x = 1     # unité : px\n",
    "delta_y = 1     # unité : px\n",
    "delta_alpha = 1 # unité : px\n",
    "\n",
    "def calculer_surface(frag):\n",
    "    res = 0     #surface en nombre de pixels\n",
    "    for x in range(frag.shape[0]):\n",
    "        for y in range(frag.shape[1]):\n",
    "            if frag[x, y, 3] != 0:      #si le pixel n'est pas transperent\n",
    "                res += 1                #il fait partie de la surface : on incrémente\n",
    "    return res\n",
    "\n",
    "# vérifie si le fragment solution est bien localisé\n",
    "def bien_localise(x, y, alpha, x_barre, y_barre, alpha_barre):\n",
    "    diff_x = np.abs(x - x_barre)\n",
    "    diff_y = np.abs(y - y_barre)\n",
    "    diff_alpha = np.abs(alpha - alpha_barre)\n",
    "\n",
    "    if (diff_x <= delta_x) and (diff_y <= delta_y) and (diff_alpha <= delta_alpha):\n",
    "        return True\n",
    "    return False\n",
    "\n",
    "def evaluer_solution(solution, fragments, vraieSurface = False):\n",
    "\n",
    "    # on ouvre les fichiers fragments.txt et solutions.txt, \n",
    "    fichier_fragments_infos = open(fragments, \"r\")\n",
    "    fragments_infos = fichier_fragments_infos.read()\n",
    "    fichier_fragments_infos.close()\n",
    "\n",
    "\n",
    "    fichier_solution_infos = open(solution, \"r\")\n",
    "    solution_infos = fichier_solution_infos.read()\n",
    "    fichier_solution_infos.close()\n",
    "\n",
    "\n",
    "    fragments_infos = fragments_infos.split('\\n')\n",
    "    solution_infos = solution_infos.split('\\n')\n",
    "\n",
    "    #on crée une hmap pour réunir fragments_infos et solutions_infos, puis on appellera bien_localiser sur les valeurs de chaque clé de la hmap.\n",
    "    hmap = {}\n",
    "\n",
    "    for ligne in fragments_infos:\n",
    "        try:\n",
    "            ligne_coupee = ligne.split(' ')\n",
    "            hmap[int(ligne_coupee[0])] = [\n",
    "                int(ligne_coupee[1]),\n",
    "                int(ligne_coupee[2]),\n",
    "                float(ligne_coupee[3])\n",
    "            ]\n",
    "        except IndexError:\n",
    "            pass\n",
    "        except:\n",
    "            1/0\n",
    "\n",
    "    for ligne in solution_infos:\n",
    "        try:\n",
    "            ligne_coupee = ligne.split(' ')\n",
    "            if len(ligne_coupee) == 4:\n",
    "                curr_frag = charger(f\"tp1/frag_eroded/frag_eroded_{ligne_coupee[0]}.png\")\n",
    "                surface = curr_frag.shape[0]*curr_frag.shape[1]\n",
    "                if vraieSurface:\n",
    "                    surface = calculer_surface(curr_frag)\n",
    "                hmap[int(ligne_coupee[0])] += [\n",
    "                    int(ligne_coupee[1]),\n",
    "                    int(ligne_coupee[2]),\n",
    "                    float(ligne_coupee[3]),\n",
    "                    surface\n",
    "                ]\n",
    "        except IndexError:\n",
    "            pass\n",
    "        except:\n",
    "            1/0\n",
    "\n",
    "\n",
    "    res = 0\n",
    "    surface_totale = 0\n",
    "    for key in hmap.keys():\n",
    "        #print(hmap[key])\n",
    "        #print(hmap[key][0], hmap[key][3], hmap[key][1], hmap[key][4], hmap[key][2], hmap[key][5])\n",
    "        surface_actuelle = hmap[key][6]\n",
    "        surface_totale += surface_actuelle\n",
    "        if bien_localise(hmap[key][0], hmap[key][1], hmap[key][2], hmap[key][3], hmap[key][4], hmap[key][5]):\n",
    "            res += surface_actuelle\n",
    "        else:\n",
    "            res -= surface_actuelle\n",
    "\n",
    "    res /= surface_totale\n",
    "    \n",
    "    return res\n",
    "\n",
    "\n",
    "#----------------------------------------------------------Tests de la fonction----------------------------------------------------------------#\n",
    "evaluer_solution(\"tp1/solution.txt\", \"tp1/fragments.txt\")                       #solution avec un fragment faux\n",
    "evaluer_solution(\"tp1/fragments.txt\", \"tp1/fragments.txt\")                      #solution avec tous les fragments vrais\n",
    "evaluer_solution(\"tp1/solution.txt\", \"tp1/fragments.txt\", vraieSurface=True)    #solution en utilisant le vrai calcul d'air, runtime très long"
   ]
  },
  {
   "cell_type": "code",
   "execution_count": 18,
   "metadata": {},
   "outputs": [
    {
     "name": "stdout",
     "output_type": "stream",
     "text": [
      "Mauvaise qualité : -1.0\n"
     ]
    },
    {
     "name": "stderr",
     "output_type": "stream",
     "text": [
      "100%|██████████| 328/328 [00:04<00:00, 68.42it/s] \n"
     ]
    }
   ],
   "source": [
    "#génération d'une solution aléatoire\n",
    "\n",
    "contenu_fichier = ''\n",
    "for i in hmap.keys():\n",
    "    contenu_fichier += f'{i} {np.random.randint(1, 1706)} {np.random.randint(1, 774)} {np.random.randint(-300, -1)}\\n'\n",
    "contenu_fichier += f'{i} {np.random.randint(1, 1706)} {np.random.randint(1, 774)} {np.random.randint(-300, -1)}'\n",
    "\n",
    "with open(\"tp1/solution_mauvaise_1.txt\", \"w\") as fichier:\n",
    "    fichier.write(contenu_fichier)\n",
    "\n",
    "\n",
    "print(f'Mauvaise qualité : {evaluer_solution(\"tp1/solution_mauvaise_1.txt\", \"tp1/fragments.txt\")}')\n",
    "\n",
    "# afficher position du fichier de la mauvaise solution:\n",
    "hmap = {}\n",
    "fichier_fragments_infos = open(\"tp1/solution_mauvaise_1.txt\", \"r\")\n",
    "fragments_infos = fichier_fragments_infos.read()\n",
    "fichier_fragments_infos.close()\n",
    "fragments_infos = fragments_infos.split('\\n')\n",
    "for ligne in fragments_infos:\n",
    "    try:\n",
    "        ligne_coupee = ligne.split(' ')\n",
    "        hmap[int(ligne_coupee[0])] = [\n",
    "            int(ligne_coupee[1]),\n",
    "            int(ligne_coupee[2]),\n",
    "            float(ligne_coupee[3])\n",
    "        ]\n",
    "    except IndexError:\n",
    "        pass\n",
    "    except:\n",
    "        1/0\n",
    "\n",
    "fond_blanc = np.zeros(shape=(775, 1707, 4), dtype=np.uint8)\n",
    "fond_blanc[:,:,:] = 255\n",
    "canvas = fond_blanc\n",
    "for nom_fichier in tqdm.tqdm(os.listdir('tp1/frag_eroded/')):\n",
    "    fragment_index = re.findall(r'\\d+', nom_fichier)[0]\n",
    "    fragment_index = int(fragment_index)\n",
    "    if fragment_index in list(hmap.keys()):\n",
    "        fragment = charger(f'tp1/frag_eroded/{nom_fichier}')\n",
    "        offset_x = -int(fragment.shape[0]/2)\n",
    "        offset_y = -int(fragment.shape[1]/2)\n",
    "        try:\n",
    "            canvas = (inserer(hmap[fragment_index][1]-1 +  + offset_x, hmap[fragment_index][0]-1 + offset_y, canvas, fragment, angle=hmap[fragment_index][2]))\n",
    "        except:\n",
    "            pass\n",
    "montrer(canvas)"
   ]
  }
 ],
 "metadata": {
  "kernelspec": {
   "display_name": "Python 3",
   "language": "python",
   "name": "python3"
  },
  "language_info": {
   "codemirror_mode": {
    "name": "ipython",
    "version": 3
   },
   "file_extension": ".py",
   "mimetype": "text/x-python",
   "name": "python",
   "nbconvert_exporter": "python",
   "pygments_lexer": "ipython3",
   "version": "3.11.9"
  }
 },
 "nbformat": 4,
 "nbformat_minor": 2
}
