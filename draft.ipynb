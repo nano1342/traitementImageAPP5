{
 "cells": [
  {
   "cell_type": "code",
   "execution_count": 1,
   "metadata": {},
   "outputs": [],
   "source": [
    "import cv2\n",
    "import os\n",
    "import numpy as np\n",
    "from IPython.display import Image\n",
    "import imutils"
   ]
  },
  {
   "cell_type": "code",
   "execution_count": 2,
   "metadata": {},
   "outputs": [],
   "source": [
    "def charger(file):\n",
    "    img = cv2.imread(file)\n",
    "    return img\n",
    "\n",
    "def montrer(img):\n",
    "    cv2.imshow(\"image\", img)\n",
    "    k = cv2.waitKey(0)\n",
    "\n",
    "def inserer(xBegin, yBegin, img, frag, angle=0):\n",
    "    if angle != 0 and angle != None:\n",
    "        frag = tourner(frag, angle)\n",
    "    img[xBegin: xBegin + frag.shape[0], yBegin: yBegin + frag.shape[1]] = frag\n",
    "    return img\n",
    "\n",
    "def tourner(img, angle):\n",
    "    imgRotated = imutils.rotate_bound(img, angle)\n",
    "    return imgRotated"
   ]
  },
  {
   "cell_type": "code",
   "execution_count": 3,
   "metadata": {},
   "outputs": [
    {
     "name": "stdout",
     "output_type": "stream",
     "text": [
      "uint8\n"
     ]
    }
   ],
   "source": [
    "#récupération du tableau de base\n",
    "angelo = charger(\"tp1/Michelangelo_ThecreationofAdam_1707x775.jpg\")\n",
    "print(angelo.dtype)"
   ]
  },
  {
   "cell_type": "code",
   "execution_count": 4,
   "metadata": {},
   "outputs": [
    {
     "name": "stdout",
     "output_type": "stream",
     "text": [
      "(68, 89, 3)\n"
     ]
    }
   ],
   "source": [
    "#récupération d'un fragment\n",
    "fragment = charger(\"tp1/frag_eroded/frag_eroded_0.png\")\n",
    "print(fragment.shape)"
   ]
  },
  {
   "cell_type": "code",
   "execution_count": 5,
   "metadata": {},
   "outputs": [
    {
     "name": "stdout",
     "output_type": "stream",
     "text": [
      "(775, 1707, 3)\n"
     ]
    }
   ],
   "source": [
    "blank_img = np.zeros(shape=(775, 1707, 3), dtype=np.uint8)\n",
    "print(blank_img.shape)\n",
    "blank_img[:,:,:] = 255\n",
    "montrer(blank_img)"
   ]
  },
  {
   "cell_type": "code",
   "execution_count": 6,
   "metadata": {},
   "outputs": [],
   "source": [
    "imgTestRed = np.zeros(shape=(50, 50, 3), dtype=np.uint8)\n",
    "imgTestRed[:,:,0] = 255\n",
    "montrer(imgTestRed)"
   ]
  },
  {
   "cell_type": "code",
   "execution_count": 7,
   "metadata": {},
   "outputs": [],
   "source": [
    "#test fonction de rotation\n",
    "montrer(tourner(fragment, 0))"
   ]
  },
  {
   "cell_type": "code",
   "execution_count": 8,
   "metadata": {},
   "outputs": [],
   "source": [
    "fragment = charger(\"tp1/frag_eroded/frag_eroded_0.png\")\n",
    "angelo = charger(\"tp1/Michelangelo_ThecreationofAdam_1707x775.jpg\")\n",
    "montrer(inserer(0, 0, angelo, fragment))\n",
    "montrer(inserer(0, 0, angelo, fragment, 30))"
   ]
  }
 ],
 "metadata": {
  "kernelspec": {
   "display_name": "Python 3",
   "language": "python",
   "name": "python3"
  },
  "language_info": {
   "codemirror_mode": {
    "name": "ipython",
    "version": 3
   },
   "file_extension": ".py",
   "mimetype": "text/x-python",
   "name": "python",
   "nbconvert_exporter": "python",
   "pygments_lexer": "ipython3",
   "version": "3.11.9"
  }
 },
 "nbformat": 4,
 "nbformat_minor": 2
}
