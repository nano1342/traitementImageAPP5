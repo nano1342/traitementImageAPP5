{
 "cells": [
  {
   "cell_type": "code",
   "execution_count": 1,
   "metadata": {},
   "outputs": [],
   "source": [
    "import cv2\n",
    "import os\n",
    "import numpy as np\n",
    "from IPython.display import Image\n",
    "import imutils\n",
    "import tqdm\n",
    "import re"
   ]
  },
  {
   "cell_type": "code",
   "execution_count": 36,
   "metadata": {},
   "outputs": [],
   "source": [
    "def charger(file):\n",
    "    img = cv2.imread(file, cv2.IMREAD_UNCHANGED)\n",
    "    return img\n",
    "\n",
    "def montrer(img):\n",
    "    cv2.imshow(\"image\", img)\n",
    "    k = cv2.waitKey(0)\n",
    "\n",
    "def inserer(xBegin, yBegin, img, frag, angle=0):\n",
    "    if angle != 0 and angle != None:\n",
    "        frag = tourner(frag, angle)\n",
    "    img = ajouterCoucheAlpha(img)\n",
    "    \n",
    "    for x in range(0, frag.shape[0]):\n",
    "        for y in range(0, frag.shape[1]):\n",
    "            alpha_actuel = frag[x][y][3]\n",
    "            if alpha_actuel:\n",
    "                percentFrag = alpha_actuel/255\n",
    "                img[xBegin + x, yBegin + y][0] = img[xBegin + x, yBegin + y, 0]*(1-percentFrag) + frag[x, y, 0]*percentFrag\n",
    "                img[xBegin + x, yBegin + y][1] = img[xBegin + x, yBegin + y, 1]*(1-percentFrag) + frag[x, y, 1]*percentFrag\n",
    "                img[xBegin + x, yBegin + y][2] = img[xBegin + x, yBegin + y, 2]*(1-percentFrag) + frag[x, y, 2]*percentFrag\n",
    "            \"\"\"else:\n",
    "                img[xBegin + x, yBegin + y][0] = 0\n",
    "                img[xBegin + x, yBegin + y][1] = 0\n",
    "                img[xBegin + x, yBegin + y][2] = 0\"\"\"\n",
    "    \n",
    "    return img\n",
    "\n",
    "def tourner(img, angle):\n",
    "    h = img.shape[0]\n",
    "    w = img.shape[1]\n",
    "    imgRotated = imutils.rotate(img, angle)\n",
    "    return imgRotated\n",
    "\n",
    "def ajouterCoucheAlpha(img):\n",
    "    if img.shape[2] == 3:\n",
    "        img = np.pad(img, ((0, 0), (0, 0), (0, 1)), mode='constant', constant_values=0)\n",
    "    return img\n",
    "\n",
    "def tournerCentre(image, angle):\n",
    "    (h, w) = image.shape[:2]\n",
    "    cX = w/2\n",
    "    cY = h/2\n",
    "    M = cv2.getRotationMatrix2D((cX, cY), -angle, 1.0)\n",
    "    cos = np.abs(M[0, 0])\n",
    "    sin = np.abs(M[0, 1])\n",
    "\n",
    "    nW = int((h * sin) + (w * cos))\n",
    "    nH = int((h * cos) + (w * sin))\n",
    "\n",
    "    M[0, 2] += (nW / 2) - cX\n",
    "    M[1, 2] += (nH / 2) - cY\n",
    "\n",
    "    return cv2.warpAffine(image, M, (nW, nH))"
   ]
  },
  {
   "cell_type": "code",
   "execution_count": 3,
   "metadata": {},
   "outputs": [
    {
     "name": "stdout",
     "output_type": "stream",
     "text": [
      "AVANT : (775, 1707, 3)\n",
      "APRES : (775, 1707, 4)\n"
     ]
    }
   ],
   "source": [
    "img = charger(\"tp1/Michelangelo_ThecreationofAdam_1707x775.jpg\")\n",
    "print(\"AVANT :\", img.shape)\n",
    "img = ajouterCoucheAlpha(img)\n",
    "print(\"APRES :\", img.shape)"
   ]
  },
  {
   "cell_type": "code",
   "execution_count": 4,
   "metadata": {},
   "outputs": [
    {
     "name": "stdout",
     "output_type": "stream",
     "text": [
      "uint8\n"
     ]
    }
   ],
   "source": [
    "#récupération du tableau de base\n",
    "angelo = charger(\"tp1/Michelangelo_ThecreationofAdam_1707x775.jpg\")\n",
    "print(angelo.dtype)"
   ]
  },
  {
   "cell_type": "code",
   "execution_count": 5,
   "metadata": {},
   "outputs": [
    {
     "name": "stdout",
     "output_type": "stream",
     "text": [
      "(68, 89, 4)\n"
     ]
    }
   ],
   "source": [
    "#récupération d'un fragment\n",
    "fragment = charger(\"tp1/frag_eroded/frag_eroded_0.png\")\n",
    "print(fragment.shape)"
   ]
  },
  {
   "cell_type": "code",
   "execution_count": 6,
   "metadata": {},
   "outputs": [
    {
     "name": "stdout",
     "output_type": "stream",
     "text": [
      "(775, 1707, 3)\n"
     ]
    }
   ],
   "source": [
    "blank_img = np.zeros(shape=(775, 1707, 3), dtype=np.uint8)\n",
    "print(blank_img.shape)\n",
    "blank_img[:,:,:] = 255\n",
    "montrer(blank_img)"
   ]
  },
  {
   "cell_type": "code",
   "execution_count": 7,
   "metadata": {},
   "outputs": [],
   "source": [
    "imgTestRed = np.zeros(shape=(50, 50, 3), dtype=np.uint8)\n",
    "imgTestRed[:,:,0] = 255\n",
    "montrer(imgTestRed)"
   ]
  },
  {
   "cell_type": "code",
   "execution_count": 8,
   "metadata": {},
   "outputs": [],
   "source": [
    "#test fonction de rotation\n",
    "montrer(tourner(fragment, 0))"
   ]
  },
  {
   "cell_type": "code",
   "execution_count": 9,
   "metadata": {},
   "outputs": [
    {
     "name": "stdout",
     "output_type": "stream",
     "text": [
      "l'ANGLEEEE 0\n"
     ]
    },
    {
     "data": {
      "text/plain": [
       "'for anglee in range(1, 90, 5):\\n    montrer(inserer(0, 0, angelo, fragment, anglee))'"
      ]
     },
     "execution_count": 9,
     "metadata": {},
     "output_type": "execute_result"
    }
   ],
   "source": [
    "fragment = charger(\"tp1/PNG_transparency_demonstration_1.png\")\n",
    "angelo = charger(\"tp1/Michelangelo_ThecreationofAdam_1707x775.jpg\")\n",
    "montrer(inserer(0, 0, angelo, fragment))\n",
    "\"\"\"for anglee in range(1, 90, 5):\n",
    "    montrer(inserer(0, 0, angelo, fragment, anglee))\"\"\""
   ]
  },
  {
   "cell_type": "code",
   "execution_count": 40,
   "metadata": {},
   "outputs": [
    {
     "name": "stderr",
     "output_type": "stream",
     "text": [
      "100%|██████████| 328/328 [00:04<00:00, 73.03it/s] \n"
     ]
    }
   ],
   "source": [
    "#----------------------------------------------------------------------------------------------------------------------------------------------#\n",
    "#------------------------------------------------------------------Question 1------------------------------------------------------------------#\n",
    "#----------------------------------------------------------------------------------------------------------------------------------------------#\n",
    "angelo = charger(\"tp1/Michelangelo_ThecreationofAdam_1707x775.jpg\")\n",
    "\n",
    "canvas = np.zeros(shape=(775, 1707, 4), dtype=np.uint8)\n",
    "canvas[:,:,:] = 255\n",
    "\n",
    "fragment = charger(\"tp1/frag_eroded/frag_eroded_0.png\")\n",
    "\n",
    "\n",
    "canvas = (inserer(0, 0, canvas, fragment))\n",
    "\n",
    "#convertir fragments.txt en une hmap\n",
    "hmap = {}\n",
    "fichier_fragments_infos = open(\"tp1/fragments.txt\", \"r\")\n",
    "fragments_infos = fichier_fragments_infos.read()\n",
    "fragments_infos = fragments_infos.split('\\n')\n",
    "for ligne in fragments_infos:\n",
    "    try:\n",
    "        ligne_coupee = ligne.split(' ')\n",
    "        hmap[int(ligne_coupee[0])] = [\n",
    "            int(ligne_coupee[1]),\n",
    "            int(ligne_coupee[2]),\n",
    "            float(ligne_coupee[3])\n",
    "        ]\n",
    "    except IndexError:\n",
    "        pass\n",
    "    except:\n",
    "        1/0\n",
    "\n",
    "\n",
    "canvas = angelo\n",
    "for nom_fichier in tqdm.tqdm(os.listdir('tp1/frag_eroded/')):\n",
    "    fragment_index = re.findall(r'\\d+', nom_fichier)[0]\n",
    "    fragment_index = int(fragment_index)\n",
    "    if fragment_index in list(hmap.keys()):\n",
    "        fragment = charger(f'tp1/frag_eroded/{nom_fichier}')\n",
    "        offset_x = -int(fragment.shape[0]/2)\n",
    "        offset_y = -int(fragment.shape[1]/2)\n",
    "        try:\n",
    "            canvas = (inserer(hmap[fragment_index][1]-1 +  + offset_x, hmap[fragment_index][0]-1 + offset_y, canvas, fragment, angle=hmap[fragment_index][2]))\n",
    "        except:\n",
    "            pass\n",
    "    \n",
    "\n",
    "\n",
    "    #print(re.findall(r'\\d+', nom_fichier)[0])\n",
    "    #print(infos_fragment_actuel)\n",
    "    #fragment = charger(hmap[][], hmap[][], f'tp1/frag_eroded/{nom_fichier}')\n",
    "    #canvas = (inserer(x, y, canvas, fragment))\n",
    "\n",
    "#montrer(angelo)\n",
    "montrer(canvas)\n",
    "\n",
    "\n"
   ]
  },
  {
   "cell_type": "code",
   "execution_count": null,
   "metadata": {},
   "outputs": [],
   "source": []
  }
 ],
 "metadata": {
  "kernelspec": {
   "display_name": "Python 3",
   "language": "python",
   "name": "python3"
  },
  "language_info": {
   "codemirror_mode": {
    "name": "ipython",
    "version": 3
   },
   "file_extension": ".py",
   "mimetype": "text/x-python",
   "name": "python",
   "nbconvert_exporter": "python",
   "pygments_lexer": "ipython3",
   "version": "3.11.9"
  }
 },
 "nbformat": 4,
 "nbformat_minor": 2
}
